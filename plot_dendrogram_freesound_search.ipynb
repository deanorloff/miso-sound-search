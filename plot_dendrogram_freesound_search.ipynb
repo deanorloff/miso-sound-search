{
 "cells": [
  {
   "cell_type": "code",
   "execution_count": 130,
   "id": "cc83e8cb",
   "metadata": {},
   "outputs": [],
   "source": [
    "import numpy as np\n",
    "import pandas as pd\n",
    "import matplotlib.pyplot as plt\n",
    "import numpy as np\n",
    "import pandas as pd\n",
    "from scipy.cluster import hierarchy\n",
    "from sklearn import cluster"
   ]
  },
  {
   "cell_type": "code",
   "execution_count": 147,
   "id": "3179e4f0",
   "metadata": {},
   "outputs": [],
   "source": [
    "df1 = pd.read_csv(\"search_results_new.csv\",header=None,names=[\"query\",\"id\",\"username\"])\n",
    "df2 = pd.read_csv(\"search_results_new2.csv\",header=None,names=[\"query\",\"id\",\"username\"])\n",
    "df3 = pd.read_csv(\"search_results_new3.csv\",header=None,names=[\"query\",\"id\",\"username\"])\n",
    "\n",
    "df = pd.concat([df1,df2,df3])\n",
    "df = df.reset_index(drop=True)\n",
    "df = df.to_csv(\"search_results_freesound_api_until_whistling.csv\")"
   ]
  },
  {
   "cell_type": "code",
   "execution_count": 72,
   "id": "895343b0",
   "metadata": {},
   "outputs": [
    {
     "data": {
      "text/html": [
       "<div>\n",
       "<style scoped>\n",
       "    .dataframe tbody tr th:only-of-type {\n",
       "        vertical-align: middle;\n",
       "    }\n",
       "\n",
       "    .dataframe tbody tr th {\n",
       "        vertical-align: top;\n",
       "    }\n",
       "\n",
       "    .dataframe thead th {\n",
       "        text-align: right;\n",
       "    }\n",
       "</style>\n",
       "<table border=\"1\" class=\"dataframe\">\n",
       "  <thead>\n",
       "    <tr style=\"text-align: right;\">\n",
       "      <th></th>\n",
       "      <th>query</th>\n",
       "      <th>id</th>\n",
       "      <th>username</th>\n",
       "    </tr>\n",
       "  </thead>\n",
       "  <tbody>\n",
       "    <tr>\n",
       "      <th>0</th>\n",
       "      <td>airplane noise</td>\n",
       "      <td>414976</td>\n",
       "      <td>InspectorJ</td>\n",
       "    </tr>\n",
       "    <tr>\n",
       "      <th>1</th>\n",
       "      <td>airplane noise</td>\n",
       "      <td>581440</td>\n",
       "      <td>hard_dealer</td>\n",
       "    </tr>\n",
       "    <tr>\n",
       "      <th>2</th>\n",
       "      <td>airplane noise</td>\n",
       "      <td>624675</td>\n",
       "      <td>avreference</td>\n",
       "    </tr>\n",
       "    <tr>\n",
       "      <th>3</th>\n",
       "      <td>airplane noise</td>\n",
       "      <td>249439</td>\n",
       "      <td>blaukreuz</td>\n",
       "    </tr>\n",
       "    <tr>\n",
       "      <th>4</th>\n",
       "      <td>airplane noise</td>\n",
       "      <td>22115</td>\n",
       "      <td>Charel Sytze</td>\n",
       "    </tr>\n",
       "    <tr>\n",
       "      <th>...</th>\n",
       "      <td>...</td>\n",
       "      <td>...</td>\n",
       "      <td>...</td>\n",
       "    </tr>\n",
       "    <tr>\n",
       "      <th>29345</th>\n",
       "      <td>whistling</td>\n",
       "      <td>495339</td>\n",
       "      <td>kirkpatrick.live</td>\n",
       "    </tr>\n",
       "    <tr>\n",
       "      <th>29346</th>\n",
       "      <td>whistling</td>\n",
       "      <td>495342</td>\n",
       "      <td>kirkpatrick.live</td>\n",
       "    </tr>\n",
       "    <tr>\n",
       "      <th>29347</th>\n",
       "      <td>whistling</td>\n",
       "      <td>495341</td>\n",
       "      <td>kirkpatrick.live</td>\n",
       "    </tr>\n",
       "    <tr>\n",
       "      <th>29348</th>\n",
       "      <td>whistling</td>\n",
       "      <td>495344</td>\n",
       "      <td>kirkpatrick.live</td>\n",
       "    </tr>\n",
       "    <tr>\n",
       "      <th>29349</th>\n",
       "      <td>whistling</td>\n",
       "      <td>495364</td>\n",
       "      <td>kirkpatrick.live</td>\n",
       "    </tr>\n",
       "  </tbody>\n",
       "</table>\n",
       "<p>29350 rows × 3 columns</p>\n",
       "</div>"
      ],
      "text/plain": [
       "                query      id          username\n",
       "0      airplane noise  414976        InspectorJ\n",
       "1      airplane noise  581440       hard_dealer\n",
       "2      airplane noise  624675       avreference\n",
       "3      airplane noise  249439         blaukreuz\n",
       "4      airplane noise   22115      Charel Sytze\n",
       "...               ...     ...               ...\n",
       "29345       whistling  495339  kirkpatrick.live\n",
       "29346       whistling  495342  kirkpatrick.live\n",
       "29347       whistling  495341  kirkpatrick.live\n",
       "29348       whistling  495344  kirkpatrick.live\n",
       "29349       whistling  495364  kirkpatrick.live\n",
       "\n",
       "[29350 rows x 3 columns]"
      ]
     },
     "execution_count": 72,
     "metadata": {},
     "output_type": "execute_result"
    }
   ],
   "source": [
    "df"
   ]
  },
  {
   "cell_type": "code",
   "execution_count": 73,
   "id": "f0254fc2",
   "metadata": {},
   "outputs": [],
   "source": [
    "list_id_one_user = np.unique(df.groupby(\"username\").sample(n=1, random_state=0)[\"id\"])\n",
    "one_user_i = [i for i in range(len(df[\"id\"])) if df[\"id\"][i] in list_id_one_user]\n",
    "\n",
    "df_one_user = df.iloc[one_user_i]"
   ]
  },
  {
   "cell_type": "code",
   "execution_count": 95,
   "id": "0888056a",
   "metadata": {},
   "outputs": [
    {
     "data": {
      "text/plain": [
       "array([    80,    151,    305, ..., 630488, 631393, 631547], dtype=int64)"
      ]
     },
     "execution_count": 95,
     "metadata": {},
     "output_type": "execute_result"
    }
   ],
   "source": [
    "list_id_one_user"
   ]
  },
  {
   "cell_type": "code",
   "execution_count": 74,
   "id": "822442f3",
   "metadata": {},
   "outputs": [
    {
     "data": {
      "text/html": [
       "<div>\n",
       "<style scoped>\n",
       "    .dataframe tbody tr th:only-of-type {\n",
       "        vertical-align: middle;\n",
       "    }\n",
       "\n",
       "    .dataframe tbody tr th {\n",
       "        vertical-align: top;\n",
       "    }\n",
       "\n",
       "    .dataframe thead th {\n",
       "        text-align: right;\n",
       "    }\n",
       "</style>\n",
       "<table border=\"1\" class=\"dataframe\">\n",
       "  <thead>\n",
       "    <tr style=\"text-align: right;\">\n",
       "      <th></th>\n",
       "      <th>query</th>\n",
       "      <th>id</th>\n",
       "      <th>username</th>\n",
       "    </tr>\n",
       "  </thead>\n",
       "  <tbody>\n",
       "    <tr>\n",
       "      <th>0</th>\n",
       "      <td>airplane noise</td>\n",
       "      <td>287</td>\n",
       "      <td>287</td>\n",
       "    </tr>\n",
       "    <tr>\n",
       "      <th>1</th>\n",
       "      <td>animal eating</td>\n",
       "      <td>178</td>\n",
       "      <td>178</td>\n",
       "    </tr>\n",
       "    <tr>\n",
       "      <th>2</th>\n",
       "      <td>apple crunching</td>\n",
       "      <td>115</td>\n",
       "      <td>115</td>\n",
       "    </tr>\n",
       "    <tr>\n",
       "      <th>3</th>\n",
       "      <td>belching</td>\n",
       "      <td>125</td>\n",
       "      <td>125</td>\n",
       "    </tr>\n",
       "    <tr>\n",
       "      <th>4</th>\n",
       "      <td>bird chirps</td>\n",
       "      <td>1005</td>\n",
       "      <td>1005</td>\n",
       "    </tr>\n",
       "    <tr>\n",
       "      <th>...</th>\n",
       "      <td>...</td>\n",
       "      <td>...</td>\n",
       "      <td>...</td>\n",
       "    </tr>\n",
       "    <tr>\n",
       "      <th>83</th>\n",
       "      <td>train noise</td>\n",
       "      <td>1005</td>\n",
       "      <td>1005</td>\n",
       "    </tr>\n",
       "    <tr>\n",
       "      <th>84</th>\n",
       "      <td>underwater</td>\n",
       "      <td>899</td>\n",
       "      <td>899</td>\n",
       "    </tr>\n",
       "    <tr>\n",
       "      <th>85</th>\n",
       "      <td>vomit</td>\n",
       "      <td>73</td>\n",
       "      <td>73</td>\n",
       "    </tr>\n",
       "    <tr>\n",
       "      <th>86</th>\n",
       "      <td>wheezing</td>\n",
       "      <td>95</td>\n",
       "      <td>95</td>\n",
       "    </tr>\n",
       "    <tr>\n",
       "      <th>87</th>\n",
       "      <td>whistling</td>\n",
       "      <td>540</td>\n",
       "      <td>540</td>\n",
       "    </tr>\n",
       "  </tbody>\n",
       "</table>\n",
       "<p>88 rows × 3 columns</p>\n",
       "</div>"
      ],
      "text/plain": [
       "              query    id  username\n",
       "0    airplane noise   287       287\n",
       "1     animal eating   178       178\n",
       "2   apple crunching   115       115\n",
       "3          belching   125       125\n",
       "4       bird chirps  1005      1005\n",
       "..              ...   ...       ...\n",
       "83      train noise  1005      1005\n",
       "84       underwater   899       899\n",
       "85            vomit    73        73\n",
       "86         wheezing    95        95\n",
       "87        whistling   540       540\n",
       "\n",
       "[88 rows x 3 columns]"
      ]
     },
     "execution_count": 74,
     "metadata": {},
     "output_type": "execute_result"
    }
   ],
   "source": [
    "df_count = df.groupby(\"query\").count()\n",
    "df_count = df_count.reset_index()\n",
    "df_count"
   ]
  },
  {
   "cell_type": "code",
   "execution_count": 75,
   "id": "04be7bde",
   "metadata": {},
   "outputs": [
    {
     "data": {
      "text/html": [
       "<div>\n",
       "<style scoped>\n",
       "    .dataframe tbody tr th:only-of-type {\n",
       "        vertical-align: middle;\n",
       "    }\n",
       "\n",
       "    .dataframe tbody tr th {\n",
       "        vertical-align: top;\n",
       "    }\n",
       "\n",
       "    .dataframe thead th {\n",
       "        text-align: right;\n",
       "    }\n",
       "</style>\n",
       "<table border=\"1\" class=\"dataframe\">\n",
       "  <thead>\n",
       "    <tr style=\"text-align: right;\">\n",
       "      <th></th>\n",
       "      <th>query</th>\n",
       "      <th>id</th>\n",
       "      <th>username</th>\n",
       "    </tr>\n",
       "  </thead>\n",
       "  <tbody>\n",
       "    <tr>\n",
       "      <th>0</th>\n",
       "      <td>airplane noise</td>\n",
       "      <td>80</td>\n",
       "      <td>80</td>\n",
       "    </tr>\n",
       "    <tr>\n",
       "      <th>1</th>\n",
       "      <td>animal eating</td>\n",
       "      <td>56</td>\n",
       "      <td>56</td>\n",
       "    </tr>\n",
       "    <tr>\n",
       "      <th>2</th>\n",
       "      <td>apple crunching</td>\n",
       "      <td>22</td>\n",
       "      <td>22</td>\n",
       "    </tr>\n",
       "    <tr>\n",
       "      <th>3</th>\n",
       "      <td>belching</td>\n",
       "      <td>39</td>\n",
       "      <td>39</td>\n",
       "    </tr>\n",
       "    <tr>\n",
       "      <th>4</th>\n",
       "      <td>bird chirps</td>\n",
       "      <td>300</td>\n",
       "      <td>300</td>\n",
       "    </tr>\n",
       "    <tr>\n",
       "      <th>...</th>\n",
       "      <td>...</td>\n",
       "      <td>...</td>\n",
       "      <td>...</td>\n",
       "    </tr>\n",
       "    <tr>\n",
       "      <th>81</th>\n",
       "      <td>train noise</td>\n",
       "      <td>182</td>\n",
       "      <td>182</td>\n",
       "    </tr>\n",
       "    <tr>\n",
       "      <th>82</th>\n",
       "      <td>underwater</td>\n",
       "      <td>205</td>\n",
       "      <td>205</td>\n",
       "    </tr>\n",
       "    <tr>\n",
       "      <th>83</th>\n",
       "      <td>vomit</td>\n",
       "      <td>26</td>\n",
       "      <td>26</td>\n",
       "    </tr>\n",
       "    <tr>\n",
       "      <th>84</th>\n",
       "      <td>wheezing</td>\n",
       "      <td>14</td>\n",
       "      <td>14</td>\n",
       "    </tr>\n",
       "    <tr>\n",
       "      <th>85</th>\n",
       "      <td>whistling</td>\n",
       "      <td>123</td>\n",
       "      <td>123</td>\n",
       "    </tr>\n",
       "  </tbody>\n",
       "</table>\n",
       "<p>86 rows × 3 columns</p>\n",
       "</div>"
      ],
      "text/plain": [
       "              query   id  username\n",
       "0    airplane noise   80        80\n",
       "1     animal eating   56        56\n",
       "2   apple crunching   22        22\n",
       "3          belching   39        39\n",
       "4       bird chirps  300       300\n",
       "..              ...  ...       ...\n",
       "81      train noise  182       182\n",
       "82       underwater  205       205\n",
       "83            vomit   26        26\n",
       "84         wheezing   14        14\n",
       "85        whistling  123       123\n",
       "\n",
       "[86 rows x 3 columns]"
      ]
     },
     "execution_count": 75,
     "metadata": {},
     "output_type": "execute_result"
    }
   ],
   "source": [
    "df_one_user_count = df_one_user.groupby(\"query\").count()\n",
    "df_one_user_count = df_one_user_count.reset_index()\n",
    "df_one_user_count"
   ]
  },
  {
   "cell_type": "code",
   "execution_count": 98,
   "id": "06c61d74",
   "metadata": {},
   "outputs": [],
   "source": [
    "search_results_df = df_one_user"
   ]
  },
  {
   "cell_type": "code",
   "execution_count": 240,
   "id": "a4711420",
   "metadata": {},
   "outputs": [
    {
     "name": "stdout",
     "output_type": "stream",
     "text": [
      "('airplane noise', 'airplane noise')\n"
     ]
    }
   ],
   "source": [
    "first_pair = []\n",
    "second_pair = []\n",
    "n_together = []\n",
    "norm_n_together = []\n",
    "b_norm_n_together = []\n",
    "to_divide = []\n",
    "first = True\n",
    "total_counts = search_results_df.groupby(\"id\").count()\n",
    "list_queries = search_results_df[\"query\"].unique()\n",
    "for first_p in list_queries:\n",
    "    for second_p in list_queries:\n",
    "        subset = (first_p, second_p)\n",
    "        _df = search_results_df[search_results_df[\"query\"].isin(subset)]\n",
    "        counts = _df.groupby(\"id\").count()\n",
    "        first_df = search_results_df[search_results_df[\"query\"].isin([first_p])]\n",
    "        first_counts = first_df.groupby(\"id\").count()\n",
    "        second_df = search_results_df[search_results_df[\"query\"].isin([second_p])]\n",
    "        second_counts = second_df.groupby(\"id\").count()\n",
    "        counted_multiple = len(counts[counts[\"query\"] > 1])\n",
    "        if first:\n",
    "            print(subset)\n",
    "            first = False\n",
    "        first_pair.append(subset[0])\n",
    "        second_pair.append(subset[1])\n",
    "        if first_p==second_p:\n",
    "            n_together.append(len(counts))\n",
    "            norm_n_together.append(1)\n",
    "            b_norm_n_together.append(1)\n",
    "        else:\n",
    "            n_together.append(counted_multiple)\n",
    "            # P(A|B) = (P(B|A)P(A))/P(B)\n",
    "            # P(B|A) = P(B,)\n",
    "            norm_n_together.append(counted_multiple/len(counts))\n",
    "            b_norm_n_together.append(counted_multiple/len(counts))"
   ]
  },
  {
   "cell_type": "code",
   "execution_count": 241,
   "id": "741bf765",
   "metadata": {},
   "outputs": [
    {
     "data": {
      "text/html": [
       "<div>\n",
       "<style scoped>\n",
       "    .dataframe tbody tr th:only-of-type {\n",
       "        vertical-align: middle;\n",
       "    }\n",
       "\n",
       "    .dataframe tbody tr th {\n",
       "        vertical-align: top;\n",
       "    }\n",
       "\n",
       "    .dataframe thead th {\n",
       "        text-align: right;\n",
       "    }\n",
       "</style>\n",
       "<table border=\"1\" class=\"dataframe\">\n",
       "  <thead>\n",
       "    <tr style=\"text-align: right;\">\n",
       "      <th></th>\n",
       "      <th>query</th>\n",
       "      <th>id</th>\n",
       "      <th>username</th>\n",
       "    </tr>\n",
       "  </thead>\n",
       "  <tbody>\n",
       "    <tr>\n",
       "      <th>710</th>\n",
       "      <td>bird chirps</td>\n",
       "      <td>403317</td>\n",
       "      <td>straget</td>\n",
       "    </tr>\n",
       "    <tr>\n",
       "      <th>713</th>\n",
       "      <td>bird chirps</td>\n",
       "      <td>584589</td>\n",
       "      <td>invertedturtle</td>\n",
       "    </tr>\n",
       "    <tr>\n",
       "      <th>720</th>\n",
       "      <td>bird chirps</td>\n",
       "      <td>187687</td>\n",
       "      <td>Sonic-ranger</td>\n",
       "    </tr>\n",
       "    <tr>\n",
       "      <th>723</th>\n",
       "      <td>bird chirps</td>\n",
       "      <td>344426</td>\n",
       "      <td>munyeca</td>\n",
       "    </tr>\n",
       "    <tr>\n",
       "      <th>725</th>\n",
       "      <td>bird chirps</td>\n",
       "      <td>578301</td>\n",
       "      <td>Yikescloud</td>\n",
       "    </tr>\n",
       "    <tr>\n",
       "      <th>...</th>\n",
       "      <td>...</td>\n",
       "      <td>...</td>\n",
       "      <td>...</td>\n",
       "    </tr>\n",
       "    <tr>\n",
       "      <th>2706</th>\n",
       "      <td>birds</td>\n",
       "      <td>494559</td>\n",
       "      <td>mrsorbias</td>\n",
       "    </tr>\n",
       "    <tr>\n",
       "      <th>2709</th>\n",
       "      <td>birds</td>\n",
       "      <td>498388</td>\n",
       "      <td>16FVolejnikovaA</td>\n",
       "    </tr>\n",
       "    <tr>\n",
       "      <th>2710</th>\n",
       "      <td>birds</td>\n",
       "      <td>266438</td>\n",
       "      <td>Adrianac</td>\n",
       "    </tr>\n",
       "    <tr>\n",
       "      <th>2711</th>\n",
       "      <td>birds</td>\n",
       "      <td>517060</td>\n",
       "      <td>bartoszmatenko</td>\n",
       "    </tr>\n",
       "    <tr>\n",
       "      <th>2714</th>\n",
       "      <td>birds</td>\n",
       "      <td>36750</td>\n",
       "      <td>fagiolino</td>\n",
       "    </tr>\n",
       "  </tbody>\n",
       "</table>\n",
       "<p>468 rows × 3 columns</p>\n",
       "</div>"
      ],
      "text/plain": [
       "            query      id         username\n",
       "710   bird chirps  403317          straget\n",
       "713   bird chirps  584589   invertedturtle\n",
       "720   bird chirps  187687     Sonic-ranger\n",
       "723   bird chirps  344426          munyeca\n",
       "725   bird chirps  578301       Yikescloud\n",
       "...           ...     ...              ...\n",
       "2706        birds  494559        mrsorbias\n",
       "2709        birds  498388  16FVolejnikovaA\n",
       "2710        birds  266438         Adrianac\n",
       "2711        birds  517060   bartoszmatenko\n",
       "2714        birds   36750        fagiolino\n",
       "\n",
       "[468 rows x 3 columns]"
      ]
     },
     "execution_count": 241,
     "metadata": {},
     "output_type": "execute_result"
    }
   ],
   "source": [
    "subset = (\"birds\", \"bird chirps\")\n",
    "_df = search_results_df[search_results_df[\"query\"].isin(subset)]\n",
    "_df"
   ]
  },
  {
   "cell_type": "code",
   "execution_count": 256,
   "id": "b7ad5381",
   "metadata": {},
   "outputs": [],
   "source": [
    "together_df = pd.DataFrame({\"first_pair\":first_pair,\n",
    "                           \"second_pair\":second_pair,\n",
    "                           \"n_together\":norm_n_together})"
   ]
  },
  {
   "cell_type": "code",
   "execution_count": 257,
   "id": "66babe1e",
   "metadata": {},
   "outputs": [],
   "source": [
    "for_clust_df = together_df.pivot(index=\"first_pair\", columns=\"second_pair\", values=\"n_together\")"
   ]
  },
  {
   "cell_type": "code",
   "execution_count": 258,
   "id": "0f495546",
   "metadata": {},
   "outputs": [],
   "source": [
    "for_clust_df.to_csv(\"for_clust3.csv\")"
   ]
  },
  {
   "cell_type": "code",
   "execution_count": 259,
   "id": "fb7130a6",
   "metadata": {},
   "outputs": [],
   "source": [
    "a = np.array(for_clust_df)\n",
    "a_diag = np.diag(a)\n",
    "temp = a.copy()\n",
    "np.fill_diagonal(temp, 0)\n",
    "n_matches = np.nansum(temp,axis=0)\n",
    "terms = for_clust_df.columns\n",
    "terms_with_matches = terms[(n_matches > 0)]\n",
    "new_df = for_clust_df.loc[terms_with_matches,terms_with_matches]\n",
    "new_a = np.array(new_df)\n",
    "new_a_diag = np.diag(new_df)\n",
    "for_dist_a = -1*new_a #+ np.nanmax(new_a) + 1\n",
    "np.fill_diagonal(for_dist_a, 0)\n",
    "for_dist = for_dist_a + -1*np.nanmin(for_dist_a) + np.min(np.diff(np.unique(for_dist_a)))\n",
    "np.fill_diagonal(for_dist, 0)\n",
    "dist = for_dist\n",
    "\n",
    "#dist = for_dist/(np.diag(for_dist)) - 1\n",
    "# need to improve normalization\n",
    "#to_divide = np.max(np.sum(dist,axis=0))\n",
    "#dist = dist/to_divide"
   ]
  },
  {
   "cell_type": "code",
   "execution_count": 260,
   "id": "3f797ccc",
   "metadata": {},
   "outputs": [
    {
     "data": {
      "text/plain": [
       "-1.0"
      ]
     },
     "execution_count": 260,
     "metadata": {},
     "output_type": "execute_result"
    }
   ],
   "source": [
    "np.nanmin(for_dist_a)"
   ]
  },
  {
   "cell_type": "code",
   "execution_count": 261,
   "id": "83bacad4",
   "metadata": {},
   "outputs": [
    {
     "data": {
      "text/plain": [
       "array([ 0.75774728,  1.3400802 ,  1.22106068,  1.0079599 ,  0.47542096,\n",
       "        0.59533375,  1.24064348,  1.13664328,  0.65965506,  1.17294866,\n",
       "        1.33904577,  1.39941428,  1.2711941 ,  0.77790421,  0.79768849,\n",
       "        0.38655551,  1.0097077 ,  0.67133709,  1.10791795,  1.12076457,\n",
       "        0.94053635,  1.25144834,  1.03264087,  1.14705882,  1.19682598,\n",
       "        1.32785738,  0.70766091,  1.22175167,  1.1477962 ,  1.18206596,\n",
       "        1.25782105,  1.20264996,  1.06076041,  0.71567136,  0.97043257,\n",
       "        1.11315974,  1.14705882,  0.44634869,  0.94477375, 10.06607174,\n",
       "        1.12977886,  1.2974242 ,  0.90326483,  1.04820014,  0.577438  ,\n",
       "        1.05479792,  1.21834406,  1.15291155,  0.50914596,  1.06242636,\n",
       "        1.31957134,  0.96716911,  0.50895263,  0.4196865 ,  2.26739473,\n",
       "        1.55651368,  1.32567868,  1.08175698,  1.09213918,  1.17970269,\n",
       "        1.12282878,  0.91455291,  1.11705607,  0.52772536,  0.40603147,\n",
       "        1.00452109,  2.26739473,  0.85341547,  1.00380249,  1.24650506,\n",
       "       61.35727654,  1.11146351,  1.16266032,  1.22141584,  1.1483184 ,\n",
       "        1.04243436,  0.79363394,  1.05047937,  0.83636401,  1.05079653,\n",
       "        1.0578474 ,  0.58168017,  0.5319343 ,  0.976905  ,  1.10038718,\n",
       "        0.63070506])"
      ]
     },
     "execution_count": 261,
     "metadata": {},
     "output_type": "execute_result"
    }
   ],
   "source": [
    "n_matches"
   ]
  },
  {
   "cell_type": "code",
   "execution_count": 262,
   "id": "cd731e5b",
   "metadata": {},
   "outputs": [
    {
     "data": {
      "text/plain": [
       "array([0., 0., 0., 0., 0., 0., 0., 0., 0., 0., 0., 0., 0., 0., 0., 0., 0.,\n",
       "       0., 0., 0., 0., 0., 0., 0., 0., 0., 0., 0., 0., 0., 0., 0., 0., 0.,\n",
       "       0., 0., 0., 0., 0., 0., 0., 0., 0., 0., 0., 0., 0., 0., 0., 0., 0.,\n",
       "       0., 0., 0., 0., 0., 0., 0., 0., 0., 0., 0., 0., 0., 0., 0., 0., 0.,\n",
       "       0., 0., 0., 0., 0., 0., 0., 0., 0., 0., 0., 0., 0., 0., 0., 0., 0.,\n",
       "       0.])"
      ]
     },
     "execution_count": 262,
     "metadata": {},
     "output_type": "execute_result"
    }
   ],
   "source": [
    "np.diag(dist)"
   ]
  },
  {
   "cell_type": "code",
   "execution_count": 263,
   "id": "d7f26a39",
   "metadata": {},
   "outputs": [],
   "source": [
    "dist = np.log(dist+1)"
   ]
  },
  {
   "cell_type": "code",
   "execution_count": 264,
   "id": "f548634a",
   "metadata": {},
   "outputs": [
    {
     "data": {
      "text/plain": [
       "Index(['airplane noise', 'animal eating', 'apple crunching', 'belching',\n",
       "       'bird chirps', 'birds', 'blowing nose', 'breath running', 'breathing',\n",
       "       'cat eating', 'chewing', 'chewing gum', 'chomping', 'clapping',\n",
       "       'clicking', 'clock ticking', 'copy machine', 'cough', 'cow eating',\n",
       "       'crinkling paper', 'crunching', 'crunching chips', 'distant engines',\n",
       "       'distorted guitar dissonance', 'dog chewing bone', 'dog drinking water',\n",
       "       'drinking', 'eating', 'eating a carrot', 'eating cereal',\n",
       "       'eating noodles', 'eating salad', 'feet shuffling', 'finger snapping',\n",
       "       'finger tapping', 'foot tapping', 'fork scratch plate', 'fountain',\n",
       "       'gargling', 'gasping', 'gulping', 'gum popping', 'hands rubbing',\n",
       "       'hard breathing', 'harp', 'hiccuping', 'high-pitched crunch',\n",
       "       'horse munching', 'keyboard', 'keyboard clicking', 'knife hit glass',\n",
       "       'knuckle cracking', 'lake', 'laugh', 'lip smacking',\n",
       "       'loud mouth sounds', 'mouth breathing', 'mouth noises', 'nail clipping',\n",
       "       'nasal breathing', 'nasal voices', 'pen clicking', 'pencil tapping',\n",
       "       'phone ringing', 'scream', 'slurping', 'smacking lips', 'sneezing',\n",
       "       'sniffing', 'sniffling', 'snoring', 'speech sound /k/',\n",
       "       'speech sound /p/', 'speech sound /s/', 'speech sound /t/',\n",
       "       'squeaking shoes', 'stomping', 'swallowing', 'tapping',\n",
       "       'throat clearing', 'tongue clicking', 'train noise', 'underwater',\n",
       "       'vomit', 'wheezing', 'whistling'],\n",
       "      dtype='object', name='second_pair')"
      ]
     },
     "execution_count": 264,
     "metadata": {},
     "output_type": "execute_result"
    }
   ],
   "source": [
    "terms_with_matches"
   ]
  },
  {
   "cell_type": "code",
   "execution_count": 265,
   "id": "18b1db15",
   "metadata": {},
   "outputs": [
    {
     "data": {
      "text/plain": [
       "array([ 0.75774728,  1.3400802 ,  1.22106068,  1.0079599 ,  0.47542096,\n",
       "        0.59533375,  1.24064348,  1.13664328,  0.65965506,  1.17294866,\n",
       "        1.33904577,  1.39941428,  1.2711941 ,  0.77790421,  0.79768849,\n",
       "        0.38655551,  1.0097077 ,  0.67133709,  1.10791795,  1.12076457,\n",
       "        0.94053635,  1.25144834,  1.03264087,  1.14705882,  1.19682598,\n",
       "        1.32785738,  0.70766091,  1.22175167,  1.1477962 ,  1.18206596,\n",
       "        1.25782105,  1.20264996,  1.06076041,  0.71567136,  0.97043257,\n",
       "        1.11315974,  1.14705882,  0.44634869,  0.94477375, 10.06607174,\n",
       "        1.12977886,  1.2974242 ,  0.90326483,  1.04820014,  0.577438  ,\n",
       "        1.05479792,  1.21834406,  1.15291155,  0.50914596,  1.06242636,\n",
       "        1.31957134,  0.96716911,  0.50895263,  0.4196865 ,  2.26739473,\n",
       "        1.55651368,  1.32567868,  1.08175698,  1.09213918,  1.17970269,\n",
       "        1.12282878,  0.91455291,  1.11705607,  0.52772536,  0.40603147,\n",
       "        1.00452109,  2.26739473,  0.85341547,  1.00380249,  1.24650506,\n",
       "       61.35727654,  1.11146351,  1.16266032,  1.22141584,  1.1483184 ,\n",
       "        1.04243436,  0.79363394,  1.05047937,  0.83636401,  1.05079653,\n",
       "        1.0578474 ,  0.58168017,  0.5319343 ,  0.976905  ,  1.10038718,\n",
       "        0.63070506])"
      ]
     },
     "execution_count": 265,
     "metadata": {},
     "output_type": "execute_result"
    }
   ],
   "source": [
    "n_matches"
   ]
  },
  {
   "cell_type": "code",
   "execution_count": 266,
   "id": "7e7873aa",
   "metadata": {},
   "outputs": [
    {
     "data": {
      "text/plain": [
       "array([[1., 0., 0., ..., 0., 0., 0.],\n",
       "       [0., 1., 0., ..., 0., 0., 0.],\n",
       "       [0., 0., 1., ..., 0., 0., 0.],\n",
       "       ...,\n",
       "       [0., 0., 0., ..., 1., 0., 0.],\n",
       "       [0., 0., 0., ..., 0., 1., 0.],\n",
       "       [0., 0., 0., ..., 0., 0., 1.]])"
      ]
     },
     "execution_count": 266,
     "metadata": {},
     "output_type": "execute_result"
    }
   ],
   "source": [
    "a"
   ]
  },
  {
   "cell_type": "code",
   "execution_count": 267,
   "id": "91d8a418",
   "metadata": {},
   "outputs": [],
   "source": [
    "def plot_dendrogram(model, **kwargs):\n",
    "    # Create linkage matrix and then plot the dendrogram\n",
    "\n",
    "    # create the counts of samples under each node\n",
    "    counts = np.zeros(model.children_.shape[0])\n",
    "    n_samples = len(model.labels_)\n",
    "    for i, merge in enumerate(model.children_):\n",
    "        current_count = 0\n",
    "        for child_idx in merge:\n",
    "            if child_idx < n_samples:\n",
    "                current_count += 1  # leaf node\n",
    "            else:\n",
    "                current_count += counts[child_idx - n_samples]\n",
    "        counts[i] = current_count\n",
    "\n",
    "    linkage_matrix = np.column_stack(\n",
    "        [model.children_, model.distances_, counts]\n",
    "    ).astype(float)\n",
    "\n",
    "    # Plot the corresponding dendrogram\n",
    "    hierarchy.dendrogram(linkage_matrix, **kwargs)"
   ]
  },
  {
   "cell_type": "code",
   "execution_count": 268,
   "id": "fcd49c4b",
   "metadata": {},
   "outputs": [
    {
     "name": "stderr",
     "output_type": "stream",
     "text": [
      "C:\\Users\\danie\\anaconda3\\envs\\miso\\lib\\site-packages\\scipy\\cluster\\hierarchy.py:834: ClusterWarning: scipy.cluster: The symmetric non-negative hollow observation matrix looks suspiciously like an uncondensed distance matrix\n",
      "  return linkage(y, method='ward', metric='euclidean')\n"
     ]
    }
   ],
   "source": [
    "model = cluster.AgglomerativeClustering(distance_threshold=0, n_clusters=None).fit(dist)"
   ]
  },
  {
   "cell_type": "code",
   "execution_count": 269,
   "id": "47ce6eb0",
   "metadata": {},
   "outputs": [
    {
     "data": {
      "image/png": "[encoded data removed]",
      "text/plain": [
       "<Figure size 1440x360 with 1 Axes>"
      ]
     },
     "metadata": {
      "needs_background": "light"
     },
     "output_type": "display_data"
    }
   ],
   "source": [
    "plt.rcParams[\"figure.figsize\"] = (20,5)\n",
    "plt.rcParams[\"font.size\"] = 10\n",
    "\n",
    "plt.figure()\n",
    "dn = plot_dendrogram(model, labels=new_df.columns)\n",
    "plt.xticks(rotation=90)\n",
    "plt.xticks(fontsize = 15)\n",
    "plt.show()"
   ]
  },
  {
   "cell_type": "code",
   "execution_count": null,
   "id": "a4f4b1b1",
   "metadata": {},
   "outputs": [],
   "source": []
  },
  {
   "cell_type": "code",
   "execution_count": null,
   "id": "2c5077f7",
   "metadata": {},
   "outputs": [],
   "source": []
  }
 ],
 "metadata": {
  "kernelspec": {
   "display_name": "Python 3 (ipykernel)",
   "language": "python",
   "name": "python3"
  },
  "language_info": {
   "codemirror_mode": {
    "name": "ipython",
    "version": 3
   },
   "file_extension": ".py",
   "mimetype": "text/x-python",
   "name": "python",
   "nbconvert_exporter": "python",
   "pygments_lexer": "ipython3",
   "version": "3.9.12"
  }
 },
 "nbformat": 4,
 "nbformat_minor": 5
}
