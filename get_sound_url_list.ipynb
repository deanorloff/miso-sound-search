{
 "cells": [
  {
   "cell_type": "code",
   "execution_count": 167,
   "metadata": {},
   "outputs": [],
   "source": [
    "import os\n",
    "import re\n",
    "import numpy as np\n",
    "import pandas as pd\n",
    "import freesound\n",
    "from collections import ChainMap\n",
    "import matplotlib.pyplot as plt"
   ]
  },
  {
   "cell_type": "code",
   "execution_count": 2,
   "metadata": {},
   "outputs": [],
   "source": [
    "token_dir = \"my_tokens\"\n",
    "token_filename = \"freesound_tokens.txt\"\n",
    "token_filepath = os.path.join(os.getcwd(), token_dir, token_filename)\n",
    "terms_dir = os.path.join(os.path.dirname(os.getcwd()), \"miso-sound-taxonomy\")\n",
    "terms_filename = \"MSI_sound_order.txt\"\n",
    "terms_filepath = os.path.join(terms_dir, terms_filename)"
   ]
  },
  {
   "cell_type": "code",
   "execution_count": 94,
   "metadata": {},
   "outputs": [],
   "source": [
    "a = np.loadtxt(terms_filepath, dtype=str, delimiter=\"\\n\")\n",
    "\n",
    "list_terms = [re.sub(r\"((\\*.*)|(\\/.*)|(\\(.*))\", \"\", string) for string in a]\n",
    "terms_order = {\n",
    "    key: value for (key, value) in zip(list_terms, np.arange(1, len(list_terms) + 1))\n",
    "}\n",
    "# to remove special characters: [\"\".join(e for e in string if e.isalnum() or e==\" \") for string in a]"
   ]
  },
  {
   "cell_type": "code",
   "execution_count": 95,
   "metadata": {},
   "outputs": [],
   "source": [
    "tokens = []\n",
    "with open(token_filepath, \"r\") as token_file:\n",
    "    for token in token_file:\n",
    "        tokens.append(token.strip())"
   ]
  },
  {
   "cell_type": "code",
   "execution_count": 96,
   "metadata": {},
   "outputs": [],
   "source": [
    "client = freesound.FreesoundClient()\n",
    "client.set_token(tokens[0], \"token\")"
   ]
  },
  {
   "cell_type": "code",
   "execution_count": 86,
   "metadata": {},
   "outputs": [
    {
     "data": {
      "text/plain": [
       "'id,id,name,username,duration,description,tags,url,license,previews,samplerate,created,type,filesize,num_downloads,avg_rating,num_ratings,ac_analysis'"
      ]
     },
     "execution_count": 86,
     "metadata": {},
     "output_type": "execute_result"
    }
   ],
   "source": [
    "each_field_list = [\n",
    "    \"id\",\n",
    "    \"name\",\n",
    "    \"username\",\n",
    "    \"duration\",\n",
    "    \"description\",\n",
    "    \"tags\",\n",
    "    \"url\",\n",
    "    \"license\",\n",
    "    \"previews\",\n",
    "    \"samplerate\",\n",
    "    \"created\",\n",
    "    \"type\",\n",
    "    \"filesize\",\n",
    "    \"num_downloads\",\n",
    "    \"avg_rating\",\n",
    "    \"num_ratings\",\n",
    "    #\"analysis_stats\",\n",
    "    #\"analysis_frames\",\n",
    "    \"ac_analysis\"\n",
    "]\n",
    "\n",
    "fields = each_field_list[0]\n",
    "for field in each_field_list:\n",
    "    fields = fields + \",\" + field\n",
    "fields\n",
    "#\"id,name,username,duration,description,tags,url,license,previews,samplerate,created,type,filesize,num_downloads,avg_rating,num_ratings,ac_analysis,is_remix,was_remixed\""
   ]
  },
  {
   "cell_type": "code",
   "execution_count": 139,
   "metadata": {},
   "outputs": [
    {
     "data": {
      "text/plain": [
       "['sipping hot liquid',\n",
       " 'crunching on chips',\n",
       " 'drinking from a water fountain',\n",
       " 'slurping']"
      ]
     },
     "execution_count": 139,
     "metadata": {},
     "output_type": "execute_result"
    }
   ],
   "source": [
    "list_terms[:4]"
   ]
  },
  {
   "cell_type": "code",
   "execution_count": 283,
   "metadata": {},
   "outputs": [
    {
     "data": {
      "text/plain": [
       "['sipping hot liquid',\n",
       " 'crunching on chips',\n",
       " 'drinking from a water fountain',\n",
       " 'slurping',\n",
       " 'lip smacks',\n",
       " 'clicking a pen',\n",
       " 'chewing gum',\n",
       " 'clipping nails',\n",
       " 'male sniffles',\n",
       " 'flipping newspaper pages',\n",
       " 'typing',\n",
       " 'pen cap covering',\n",
       " 'basketball dribbling',\n",
       " 'eating and slurping',\n",
       " 'bowls on table',\n",
       " 'silverware on table',\n",
       " 'knife cutting',\n",
       " 'walking with heels',\n",
       " 'human breathing',\n",
       " 'load dishwasher ',\n",
       " 'sniffling',\n",
       " 'coins shuffling',\n",
       " 'plastic crumpling',\n",
       " 'metal spoon scrapes pot',\n",
       " 'mouse click continuous',\n",
       " 'stirring liquid in a glass',\n",
       " 'human eating peach',\n",
       " 'baby breaths',\n",
       " 'water drops',\n",
       " 'clicking a mouse',\n",
       " 'human nose sniffing',\n",
       " 'clearing throat',\n",
       " 'swallowing',\n",
       " 'slow typing',\n",
       " 'floating ice in a glass',\n",
       " 'cutting fruit',\n",
       " 'calm breathing',\n",
       " 'card dealing',\n",
       " 'wash hands running water',\n",
       " 'hand wipe',\n",
       " 'keyboard typing fast',\n",
       " 'paper bag opening',\n",
       " 'human nose breathing',\n",
       " 'dog drinking water',\n",
       " 'dog drinking close up',\n",
       " 'chopping celery',\n",
       " 'flip flops on wood',\n",
       " 'windchimes',\n",
       " 'male cough',\n",
       " 'dodge ball bounce',\n",
       " 'coffee shop',\n",
       " 'gas stove lighter',\n",
       " 'hand claps',\n",
       " 'hangers in closet',\n",
       " 'wall light switch',\n",
       " 'empty bottles',\n",
       " 'kids playing in gym',\n",
       " 'writing on paper',\n",
       " 'carnival atmosphere',\n",
       " 'aluminum can crunching',\n",
       " 'hammering',\n",
       " 'engine start up',\n",
       " 'scrubbing metal',\n",
       " 'clock ticking',\n",
       " 'peeling food with peeler',\n",
       " 'windshield wipers',\n",
       " 'light splashing of water',\n",
       " 'dress shoes on stairs',\n",
       " 'sweeping wooden porch',\n",
       " 'ping pong ball bounce',\n",
       " 'dial turning',\n",
       " 'drawing on paper with charcoal',\n",
       " 'male burps',\n",
       " 'babies coo',\n",
       " 'sneezing',\n",
       " 'paper folding',\n",
       " 'arm movement on desk',\n",
       " 'male sick breathing',\n",
       " 'coughing',\n",
       " 'human mouth breathing ',\n",
       " 'dancing the Charelston',\n",
       " 'hairdryer',\n",
       " 'drawer rolling in and out',\n",
       " 'metal strike on wood',\n",
       " 'crowd talking',\n",
       " 'scissor snips',\n",
       " 'chain on metal post',\n",
       " 'dog barking',\n",
       " 'fountain water bubbling',\n",
       " 'gas lamp flickering',\n",
       " 'hollow wood door',\n",
       " 'motorcycle',\n",
       " 'bird chirping',\n",
       " 'lathering  soap on hands',\n",
       " 'punch bed sheet',\n",
       " 'snoring',\n",
       " 'jackhammer',\n",
       " 'squeaky swingset',\n",
       " 'silverware on glass',\n",
       " 'crickets',\n",
       " 'branch and leaves',\n",
       " 'male sneezing into arm',\n",
       " 'muddy footsteps',\n",
       " 'run quick on concrete',\n",
       " 'chopping a tree',\n",
       " 'small dog  wimper',\n",
       " 'daytime forest bonfire',\n",
       " 'bicycle pedaling',\n",
       " 'printer',\n",
       " 'hair clippers cutting',\n",
       " 'keying a car',\n",
       " 'mouse squeaking',\n",
       " 'drill motor',\n",
       " 'frog croaking',\n",
       " 'heavy rain',\n",
       " 'babies cry',\n",
       " 'radio static',\n",
       " 'wind howling',\n",
       " 'wood creak on old ship',\n",
       " 'finger nails scratch wood',\n",
       " 'distant thunder',\n",
       " 'male chuckling',\n",
       " 'animal squealing',\n",
       " 'dog growling',\n",
       " 'crow cawing']"
      ]
     },
     "execution_count": 283,
     "metadata": {},
     "output_type": "execute_result"
    }
   ],
   "source": [
    "list_terms"
   ]
  },
  {
   "cell_type": "code",
   "execution_count": 236,
   "metadata": {
    "colab": {
     "base_uri": "https://localhost:8080/"
    },
    "id": "dFg9-FvD3pvv",
    "outputId": "ab29451d-b683-44be-a8b2-69e8872ec22b"
   },
   "outputs": [],
   "source": [
    "for term in list_terms:\n",
    "    sounds_results_pager = client.text_search(\n",
    "        query=term, fields=fields\n",
    "    )\n",
    "    pages_left = True\n",
    "    sound_count = 0\n",
    "    while pages_left:\n",
    "        for sound in sounds_results_pager:\n",
    "            sound_count += 1\n",
    "            search_info = {\n",
    "                \"term\": term,\n",
    "                \"term_order\": terms_order[term],\n",
    "                \"search_result_number\": sound_count,\n",
    "            }\n",
    "            items_not_dict = {\n",
    "                key: value\n",
    "                for (key, value) in sound.json_dict.items()\n",
    "                if not isinstance(value, dict)\n",
    "            }\n",
    "            list_dict = [\n",
    "                value for (key, value) in sound.json_dict.items() if isinstance(value, dict)\n",
    "            ]\n",
    "            list_dict.append(items_not_dict)\n",
    "            list_dict.append(search_info)\n",
    "            comb_dict = dict(ChainMap(*list_dict))\n",
    "            search_results_df = pd.DataFrame(comb_dict)\n",
    "            search_results_df.to_csv(\n",
    "                \"search_results_new.csv\", mode=\"a\", header=False, index=False\n",
    "            )\n",
    "            if sound.json_dict[\"id\"] not in all_sounds.keys():\n",
    "                all_sounds[sound.json_dict[\"id\"]] = comb_dict\n",
    "            else:\n",
    "                repeated_sounds.append(comb_dict)\n",
    "        if not sounds_results_pager.next or sound_count >= 100:\n",
    "            pages_left = False\n",
    "        else:\n",
    "            sounds_results_pager = sounds_results_pager.next_page()"
   ]
  },
  {
   "cell_type": "code",
   "execution_count": 237,
   "metadata": {},
   "outputs": [],
   "source": [
    "df = pd.DataFrame.from_dict(all_sounds, orient=\"index\").reset_index()"
   ]
  },
  {
   "cell_type": "code",
   "execution_count": 265,
   "metadata": {},
   "outputs": [],
   "source": [
    "df[\"priority_check1\"] = (\n",
    "    (df[\"license\"].values == \"http://creativecommons.org/publicdomain/zero/1.0/\")\n",
    "    & (df[\"duration\"].values >= 4)\n",
    "    & (df[\"duration\"].values <= 150)\n",
    "    & (df[\"samplerate\"] >= 44100)\n",
    ")"
   ]
  },
  {
   "cell_type": "code",
   "execution_count": 266,
   "metadata": {},
   "outputs": [],
   "source": [
    "used_usernames = []\n",
    "bin_first_use = np.zeros_like(df.index).astype(bool)\n",
    "\n",
    "for index, row in df.iterrows():\n",
    "    if row[\"priority_check1\"]:\n",
    "        if row[\"username\"] in used_usernames:\n",
    "            bin_first_use[index] = False\n",
    "        else:\n",
    "            used_usernames.append(row[\"username\"])\n",
    "            bin_first_use[index] = True\n",
    "\n",
    "for index, row in df.iterrows():\n",
    "    if not row[\"priority_check1\"]:\n",
    "        if row[\"username\"] in used_usernames:\n",
    "            bin_first_use[index] = False\n",
    "        else:\n",
    "            used_usernames.append(row[\"username\"])\n",
    "            bin_first_use[index] = True\n",
    "            \n",
    "df[\"first_instance_username\"] = bin_first_use"
   ]
  },
  {
   "cell_type": "code",
   "execution_count": 267,
   "metadata": {},
   "outputs": [
    {
     "data": {
      "text/plain": [
       "False    3132\n",
       "True     2190\n",
       "Name: first_instance_username, dtype: int64"
      ]
     },
     "execution_count": 267,
     "metadata": {},
     "output_type": "execute_result"
    }
   ],
   "source": [
    "df[\"first_instance_username\"].value_counts()"
   ]
  },
  {
   "cell_type": "code",
   "execution_count": 268,
   "metadata": {},
   "outputs": [],
   "source": [
    "df[\"priority_check2\"] = ((df[\"priority_check1\"]) & (df[\"first_instance_username\"]))"
   ]
  },
  {
   "cell_type": "code",
   "execution_count": 269,
   "metadata": {},
   "outputs": [
    {
     "data": {
      "text/plain": [
       "False    4266\n",
       "True     1056\n",
       "Name: priority_check2, dtype: int64"
      ]
     },
     "execution_count": 269,
     "metadata": {},
     "output_type": "execute_result"
    }
   ],
   "source": [
    "df[\"priority_check2\"].value_counts()"
   ]
  },
  {
   "cell_type": "code",
   "execution_count": 300,
   "metadata": {},
   "outputs": [],
   "source": [
    "out_df = df.sort_values(\n",
    "    by=[\"priority_check2\", \"term_order\", \"search_result_number\"],\n",
    "    ascending=(False, True, True),\n",
    ").rename_axis(\"orig_index\").reset_index().rename_axis(\"priority\").reset_index()\n",
    "out_df[\"priority\"] = out_df[\"priority\"] + 1"
   ]
  },
  {
   "cell_type": "code",
   "execution_count": 305,
   "metadata": {},
   "outputs": [],
   "source": [
    "filt_out_df = out_df.loc[:,[\"term\",\"url\",\"priority\"]]\n",
    "filt_out_df[\"current_term_present\"] = \"\"\n",
    "filt_out_df[\"other_term_present\"] = \"\"\n",
    "filt_out_df[\"notes\"] = \"\"\n",
    "filt_out_df.to_csv(\n",
    "                \"search_results_20220617_urls.csv\", mode=\"a\", index=False\n",
    "            )"
   ]
  }
 ],
 "metadata": {
  "colab": {
   "name": "Untitled16.ipynb",
   "provenance": []
  },
  "kernelspec": {
   "display_name": "Python 3 (ipykernel)",
   "language": "python",
   "name": "python3"
  },
  "language_info": {
   "codemirror_mode": {
    "name": "ipython",
    "version": 3
   },
   "file_extension": ".py",
   "mimetype": "text/x-python",
   "name": "python",
   "nbconvert_exporter": "python",
   "pygments_lexer": "ipython3",
   "version": "3.8.13"
  }
 },
 "nbformat": 4,
 "nbformat_minor": 1
}
